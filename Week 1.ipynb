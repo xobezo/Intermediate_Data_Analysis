{
 "cells": [
  {
   "cell_type": "markdown",
   "metadata": {},
   "source": [
    "The following code is going to be used to identify if there is a correlation between income level and education level. In this example I only looked at below and above high school level of education. For this I used the independent t-test"
   ]
  },
  {
   "cell_type": "code",
   "execution_count": 1,
   "metadata": {},
   "outputs": [],
   "source": [
    "# Importing needed modules\n",
    "import numpy as np\n",
    "import pandas as pd\n",
    "import scipy.stats as stats\n",
    "import glob"
   ]
  },
  {
   "cell_type": "code",
   "execution_count": 2,
   "metadata": {},
   "outputs": [
    {
     "data": {
      "text/html": [
       "<div>\n",
       "<style scoped>\n",
       "    .dataframe tbody tr th:only-of-type {\n",
       "        vertical-align: middle;\n",
       "    }\n",
       "\n",
       "    .dataframe tbody tr th {\n",
       "        vertical-align: top;\n",
       "    }\n",
       "\n",
       "    .dataframe thead th {\n",
       "        text-align: right;\n",
       "    }\n",
       "</style>\n",
       "<table border=\"1\" class=\"dataframe\">\n",
       "  <thead>\n",
       "    <tr style=\"text-align: right;\">\n",
       "      <th></th>\n",
       "      <th>GEO_ID</th>\n",
       "      <th>NAME</th>\n",
       "      <th>B20004_001E</th>\n",
       "      <th>B20004_001M</th>\n",
       "      <th>B20004_002E</th>\n",
       "      <th>B20004_002M</th>\n",
       "      <th>B20004_003E</th>\n",
       "      <th>B20004_003M</th>\n",
       "      <th>B20004_004E</th>\n",
       "      <th>B20004_004M</th>\n",
       "      <th>...</th>\n",
       "      <th>B20004_014E</th>\n",
       "      <th>B20004_014M</th>\n",
       "      <th>B20004_015E</th>\n",
       "      <th>B20004_015M</th>\n",
       "      <th>B20004_016E</th>\n",
       "      <th>B20004_016M</th>\n",
       "      <th>B20004_017E</th>\n",
       "      <th>B20004_017M</th>\n",
       "      <th>B20004_018E</th>\n",
       "      <th>B20004_018M</th>\n",
       "    </tr>\n",
       "  </thead>\n",
       "  <tbody>\n",
       "    <tr>\n",
       "      <th>0</th>\n",
       "      <td>id</td>\n",
       "      <td>Geographic Area Name</td>\n",
       "      <td>Estimate!!Total</td>\n",
       "      <td>Margin of Error!!Total</td>\n",
       "      <td>Estimate!!Total!!Less than high school graduate</td>\n",
       "      <td>Margin of Error!!Total!!Less than high school ...</td>\n",
       "      <td>Estimate!!Total!!High school graduate (include...</td>\n",
       "      <td>Margin of Error!!Total!!High school graduate (...</td>\n",
       "      <td>Estimate!!Total!!Some college or associate's d...</td>\n",
       "      <td>Margin of Error!!Total!!Some college or associ...</td>\n",
       "      <td>...</td>\n",
       "      <td>Estimate!!Total!!Female!!Less than high school...</td>\n",
       "      <td>Margin of Error!!Total!!Female!!Less than high...</td>\n",
       "      <td>Estimate!!Total!!Female!!High school graduate ...</td>\n",
       "      <td>Margin of Error!!Total!!Female!!High school gr...</td>\n",
       "      <td>Estimate!!Total!!Female!!Some college or assoc...</td>\n",
       "      <td>Margin of Error!!Total!!Female!!Some college o...</td>\n",
       "      <td>Estimate!!Total!!Female!!Bachelor's degree</td>\n",
       "      <td>Margin of Error!!Total!!Female!!Bachelor's degree</td>\n",
       "      <td>Estimate!!Total!!Female!!Graduate or professio...</td>\n",
       "      <td>Margin of Error!!Total!!Female!!Graduate or pr...</td>\n",
       "    </tr>\n",
       "    <tr>\n",
       "      <th>1</th>\n",
       "      <td>0100000US</td>\n",
       "      <td>United States</td>\n",
       "      <td>33298</td>\n",
       "      <td>97</td>\n",
       "      <td>18413</td>\n",
       "      <td>103</td>\n",
       "      <td>26349</td>\n",
       "      <td>56</td>\n",
       "      <td>31928</td>\n",
       "      <td>45</td>\n",
       "      <td>...</td>\n",
       "      <td>14470</td>\n",
       "      <td>110</td>\n",
       "      <td>21427</td>\n",
       "      <td>64</td>\n",
       "      <td>27062</td>\n",
       "      <td>74</td>\n",
       "      <td>40393</td>\n",
       "      <td>96</td>\n",
       "      <td>52866</td>\n",
       "      <td>275</td>\n",
       "    </tr>\n",
       "  </tbody>\n",
       "</table>\n",
       "<p>2 rows × 38 columns</p>\n",
       "</div>"
      ],
      "text/plain": [
       "      GEO_ID                  NAME      B20004_001E             B20004_001M  \\\n",
       "0         id  Geographic Area Name  Estimate!!Total  Margin of Error!!Total   \n",
       "1  0100000US         United States            33298                      97   \n",
       "\n",
       "                                       B20004_002E  \\\n",
       "0  Estimate!!Total!!Less than high school graduate   \n",
       "1                                            18413   \n",
       "\n",
       "                                         B20004_002M  \\\n",
       "0  Margin of Error!!Total!!Less than high school ...   \n",
       "1                                                103   \n",
       "\n",
       "                                         B20004_003E  \\\n",
       "0  Estimate!!Total!!High school graduate (include...   \n",
       "1                                              26349   \n",
       "\n",
       "                                         B20004_003M  \\\n",
       "0  Margin of Error!!Total!!High school graduate (...   \n",
       "1                                                 56   \n",
       "\n",
       "                                         B20004_004E  \\\n",
       "0  Estimate!!Total!!Some college or associate's d...   \n",
       "1                                              31928   \n",
       "\n",
       "                                         B20004_004M  ...  \\\n",
       "0  Margin of Error!!Total!!Some college or associ...  ...   \n",
       "1                                                 45  ...   \n",
       "\n",
       "                                         B20004_014E  \\\n",
       "0  Estimate!!Total!!Female!!Less than high school...   \n",
       "1                                              14470   \n",
       "\n",
       "                                         B20004_014M  \\\n",
       "0  Margin of Error!!Total!!Female!!Less than high...   \n",
       "1                                                110   \n",
       "\n",
       "                                         B20004_015E  \\\n",
       "0  Estimate!!Total!!Female!!High school graduate ...   \n",
       "1                                              21427   \n",
       "\n",
       "                                         B20004_015M  \\\n",
       "0  Margin of Error!!Total!!Female!!High school gr...   \n",
       "1                                                 64   \n",
       "\n",
       "                                         B20004_016E  \\\n",
       "0  Estimate!!Total!!Female!!Some college or assoc...   \n",
       "1                                              27062   \n",
       "\n",
       "                                         B20004_016M  \\\n",
       "0  Margin of Error!!Total!!Female!!Some college o...   \n",
       "1                                                 74   \n",
       "\n",
       "                                  B20004_017E  \\\n",
       "0  Estimate!!Total!!Female!!Bachelor's degree   \n",
       "1                                       40393   \n",
       "\n",
       "                                         B20004_017M  \\\n",
       "0  Margin of Error!!Total!!Female!!Bachelor's degree   \n",
       "1                                                 96   \n",
       "\n",
       "                                         B20004_018E  \\\n",
       "0  Estimate!!Total!!Female!!Graduate or professio...   \n",
       "1                                              52866   \n",
       "\n",
       "                                         B20004_018M  \n",
       "0  Margin of Error!!Total!!Female!!Graduate or pr...  \n",
       "1                                                275  \n",
       "\n",
       "[2 rows x 38 columns]"
      ]
     },
     "execution_count": 2,
     "metadata": {},
     "output_type": "execute_result"
    }
   ],
   "source": [
    "#This will hold all the datsets\n",
    "complete_dataset = list()\n",
    "\n",
    "# One annoyance is that this data is across multiple files\n",
    "# This loop will loop through each and make a data table of each.\n",
    "# I will show one datatable at the end of this cell\n",
    "for itm in glob.glob('Data_1/*data_with_overlays*.csv'):\n",
    "    complete_dataset.append(pd.read_csv(itm))\n",
    "\n",
    "# I'm not going to save the year. Doing so would be harder and not necessarily useful\n",
    "#These will hold income above and below high school level\n",
    "data_below_high = list()\n",
    "data_above_high = list()\n",
    "\n",
    "# Loops through complete data set and pulls out the appropiate values\n",
    "for i,itm in enumerate(complete_dataset):\n",
    "    # The cell headers used are from the table below\n",
    "    data_below_high.append(itm['B20004_002E'][1])\n",
    "    data_above_high.append(itm['B20004_003E'][1])\n",
    "# Showing the following dataset\n",
    "complete_dataset[0]"
   ]
  },
  {
   "cell_type": "code",
   "execution_count": 3,
   "metadata": {},
   "outputs": [
    {
     "name": "stdout",
     "output_type": "stream",
     "text": [
      "t-value:8.373670782971901\n",
      "p-value:3.051863998739338e-07\n"
     ]
    }
   ],
   "source": [
    "# Here's the magic\n",
    "stat_values = stats.ttest_ind(np.array(data_above_high,dtype='int64'),np.array(data_below_high,dtype='int64'))\n",
    "\n",
    "#Print line to make data easy to read\n",
    "print(\"t-value:{0}\\np-value:{1}\".format(*stat_values))"
   ]
  },
  {
   "cell_type": "code",
   "execution_count": 7,
   "metadata": {},
   "outputs": [
    {
     "data": {
      "text/plain": [
       "['26349',\n",
       " '26699',\n",
       " '27024',\n",
       " '27350',\n",
       " '27809',\n",
       " '29004',\n",
       " '29969',\n",
       " '30624',\n",
       " '31269']"
      ]
     },
     "execution_count": 7,
     "metadata": {},
     "output_type": "execute_result"
    }
   ],
   "source": [
    "data_above_high"
   ]
  },
  {
   "cell_type": "code",
   "execution_count": 5,
   "metadata": {},
   "outputs": [
    {
     "data": {
      "text/plain": [
       "['18413',\n",
       " '18794',\n",
       " '19404',\n",
       " '20149',\n",
       " '20542',\n",
       " '21320',\n",
       " '21839',\n",
       " '23031',\n",
       " '24530']"
      ]
     },
     "execution_count": 5,
     "metadata": {},
     "output_type": "execute_result"
    }
   ],
   "source": [
    "data_below_high"
   ]
  },
  {
   "cell_type": "code",
   "execution_count": null,
   "metadata": {},
   "outputs": [],
   "source": []
  }
 ],
 "metadata": {
  "kernelspec": {
   "display_name": "Python 3",
   "language": "python",
   "name": "python3"
  },
  "language_info": {
   "codemirror_mode": {
    "name": "ipython",
    "version": 3
   },
   "file_extension": ".py",
   "mimetype": "text/x-python",
   "name": "python",
   "nbconvert_exporter": "python",
   "pygments_lexer": "ipython3",
   "version": "3.8.0"
  }
 },
 "nbformat": 4,
 "nbformat_minor": 4
}
