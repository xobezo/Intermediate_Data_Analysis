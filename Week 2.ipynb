{
 "cells": [
  {
   "cell_type": "code",
   "execution_count": 50,
   "metadata": {},
   "outputs": [],
   "source": [
    "# Importing needed modules\n",
    "import numpy as np\n",
    "import pandas as pd\n",
    "from scipy import stats\n",
    "import glob\n",
    "import matplotlib.pyplot as plt\n",
    "import datetime"
   ]
  },
  {
   "cell_type": "code",
   "execution_count": 3,
   "metadata": {},
   "outputs": [
    {
     "name": "stdout",
     "output_type": "stream",
     "text": [
      " Volume in drive F is Data\n",
      " Volume Serial Number is 5CFB-FEAD\n",
      "\n",
      " Directory of F:\\Dropbox\\Dropbox\\School\\Work\\workspace\\stats\\Intermediate_Data_Analysis\n",
      "\n",
      "03/28/2020  12:07 PM    <DIR>          .\n",
      "03/28/2020  12:07 PM    <DIR>          ..\n",
      "03/26/2020  11:18 PM                66 .gitattributes\n",
      "03/28/2020  12:07 PM    <DIR>          .ipynb_checkpoints\n",
      "03/25/2020  11:33 PM    <DIR>          Data_1\n",
      "10/01/2019  09:54 AM         1,989,197 Data_2.csv\n",
      "03/26/2020  10:55 PM            11,560 Week 1.ipynb\n",
      "03/28/2020  12:07 PM                72 Week 2.ipynb\n",
      "               4 File(s)      2,000,895 bytes\n",
      "               4 Dir(s)  1,671,830,413,312 bytes free\n"
     ]
    }
   ],
   "source": [
    "!dir"
   ]
  },
  {
   "cell_type": "code",
   "execution_count": 4,
   "metadata": {},
   "outputs": [],
   "source": [
    "#Obtaining all the data\n",
    "data = pd.read_csv(\"Data_2.csv\")"
   ]
  },
  {
   "cell_type": "code",
   "execution_count": 8,
   "metadata": {},
   "outputs": [],
   "source": [
    "# Selectiong data from Seattle\n",
    "mask = data['region'] ==\"Seattle\"\n",
    "price_seattle = data[mask]"
   ]
  },
  {
   "cell_type": "code",
   "execution_count": 14,
   "metadata": {},
   "outputs": [],
   "source": [
    "# Getting only data for convential prices\n",
    "mask1 = price_seattle['type'] == 'conventional'"
   ]
  },
  {
   "cell_type": "code",
   "execution_count": 15,
   "metadata": {},
   "outputs": [],
   "source": [
    "data2 = price_seattle[mask1]"
   ]
  },
  {
   "cell_type": "code",
   "execution_count": 105,
   "metadata": {},
   "outputs": [
    {
     "name": "stdout",
     "output_type": "stream",
     "text": [
      "169\n"
     ]
    },
    {
     "data": {
      "text/plain": [
       "numpy.datetime64('2015-01-04')"
      ]
     },
     "execution_count": 105,
     "metadata": {},
     "output_type": "execute_result"
    }
   ],
   "source": [
    "# This is where things get a little more complicated\n",
    "# Getting the dates and average price\n",
    "(x,y) = (np.array(data2['Date']),np.array(data2['AveragePrice']))\n",
    "# This sets the type as datetime which can be used easier for math\n",
    "x=x.astype('<M8')\n",
    "print(len(x))\n",
    "x.min()"
   ]
  },
  {
   "cell_type": "code",
   "execution_count": 61,
   "metadata": {},
   "outputs": [
    {
     "data": {
      "image/png": "[encoded data removed]",
      "text/plain": [
       "<Figure size 432x288 with 1 Axes>"
      ]
     },
     "metadata": {
      "needs_background": "light"
     },
     "output_type": "display_data"
    }
   ],
   "source": [
    "# Creating the plot\n",
    "fig, ax = plt.subplots()\n",
    "ax.scatter(x,y)\n",
    "\n",
    "plt.show()\n"
   ]
  },
  {
   "cell_type": "code",
   "execution_count": 89,
   "metadata": {},
   "outputs": [],
   "source": [
    "# I'm setting the time as days since the first data set point\n",
    "starting = x.min()\n",
    "output = list()\n",
    "for i,itm in enumerate(x):\n",
    "    delta = itm-starting\n",
    "    output.append(delta/ np.timedelta64(1, 'D'))\n",
    "x1=np.array(output)"
   ]
  },
  {
   "cell_type": "code",
   "execution_count": 81,
   "metadata": {},
   "outputs": [],
   "source": [
    "# The magic\n",
    "# I needed the above section done as this part won't do math on dates\n",
    "slope, intercept, r_value, p_value, std_err = stats.linregress(x1,y)"
   ]
  },
  {
   "cell_type": "code",
   "execution_count": 100,
   "metadata": {},
   "outputs": [
    {
     "name": "stdout",
     "output_type": "stream",
     "text": [
      "Slope:0.0003321032555033848\n",
      "Intercept:0.9744865993734771\n",
      "r value:0.42039854857328596\n",
      "p value:1.266443056351249e-08\n",
      "std error:5.546557651378167e-05\n"
     ]
    }
   ],
   "source": [
    "# Printing out the dataCncluss\n",
    "print('Slope:{0}\\nIntercept:{1}\\nr value:{2}\\np value:{3}\\nstd error:{4}'.format(slope, intercept, r_value, p_value, std_err))"
   ]
  },
  {
   "cell_type": "code",
   "execution_count": 106,
   "metadata": {},
   "outputs": [
    {
     "data": {
      "text/plain": [
       "1176.0"
      ]
     },
     "execution_count": 106,
     "metadata": {},
     "output_type": "execute_result"
    }
   ],
   "source": [
    "x2.max()"
   ]
  },
  {
   "cell_type": "code",
   "execution_count": 98,
   "metadata": {},
   "outputs": [
    {
     "data": {
      "image/png": "[encoded data removed]",
      "text/plain": [
       "<Figure size 432x288 with 1 Axes>"
      ]
     },
     "metadata": {
      "needs_background": "light"
     },
     "output_type": "display_data"
    }
   ],
   "source": [
    "# Making a graph with a line\n",
    "fig, ax = plt.subplots()\n",
    "ax.scatter(x1,y)\n",
    "x2 = np.linspace(0,x1.max())\n",
    "ax.plot(x2,slope*x2+intercept,color='green',linewidth=4)\n",
    "\n",
    "plt.show()\n"
   ]
  },
  {
   "cell_type": "code",
   "execution_count": 104,
   "metadata": {},
   "outputs": [
    {
     "data": {
      "text/plain": [
       "array(['2017-09-10'], dtype='datetime64[D]')"
      ]
     },
     "execution_count": 104,
     "metadata": {},
     "output_type": "execute_result"
    }
   ],
   "source": [
    "# Most expensive day for avocados\n",
    "x[y==y.max()]"
   ]
  },
  {
   "cell_type": "code",
   "execution_count": null,
   "metadata": {},
   "outputs": [],
   "source": []
  }
 ],
 "metadata": {
  "kernelspec": {
   "display_name": "Python 3",
   "language": "python",
   "name": "python3"
  },
  "language_info": {
   "codemirror_mode": {
    "name": "ipython",
    "version": 3
   },
   "file_extension": ".py",
   "mimetype": "text/x-python",
   "name": "python",
   "nbconvert_exporter": "python",
   "pygments_lexer": "ipython3",
   "version": "3.8.0"
  }
 },
 "nbformat": 4,
 "nbformat_minor": 4
}
